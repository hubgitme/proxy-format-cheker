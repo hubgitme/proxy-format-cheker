{
  "nbformat": 4,
  "nbformat_minor": 0,
  "metadata": {
    "colab": {
      "provenance": [],
      "authorship_tag": "ABX9TyNS+72GDN23T681XzQ5z1oM",
      "include_colab_link": true
    },
    "kernelspec": {
      "name": "python3",
      "display_name": "Python 3"
    },
    "language_info": {
      "name": "python"
    }
  },
  "cells": [
    {
      "cell_type": "markdown",
      "metadata": {
        "id": "view-in-github",
        "colab_type": "text"
      },
      "source": [
        "<a href=\"https://colab.research.google.com/github/hubgitme/proxy-format-cheker/blob/main/proxy_test.ipynb\" target=\"_parent\"><img src=\"https://colab.research.google.com/assets/colab-badge.svg\" alt=\"Open In Colab\"/></a>"
      ]
    },
    {
      "cell_type": "code",
      "source": [
        "\n",
        "import requests\n",
        "import time\n",
        "from requests.exceptions import RequestException\n",
        "\n",
        "def test_proxy(proxy, proxy_type):\n",
        "    if proxy_type == \"1\":\n",
        "        proxy_url = f\"http://{proxy}\"\n",
        "    else:\n",
        "        proxy_url = f\"socks5://{proxy}\"\n",
        "\n",
        "    proxies = {\n",
        "        \"http\": proxy_url,\n",
        "        \"https\": proxy_url,\n",
        "    }\n",
        "\n",
        "    try:\n",
        "        start = time.time()\n",
        "        response = requests.get(\"http://ifconfig.me\", proxies=proxies, timeout=6)\n",
        "        latency = round((time.time() - start) * 1000)  # ms\n",
        "        ip = response.text.strip()\n",
        "        return proxy, ip, f\"{latency} ms\", \"✅ سالم\"\n",
        "    except RequestException:\n",
        "        return proxy, \"-\", \"-\", \"❌ خراب\"\n",
        "\n",
        "# شروع برنامه\n",
        "print(\"انتخاب نوع پروکسی:\")\n",
        "print(\"1: HTTP/HTTPS\")\n",
        "print(\"2: SOCKS5\")\n",
        "\n",
        "proxy_type = input(\"عدد گزینه را وارد کن (1 یا 2): \").strip()\n",
        "while proxy_type not in [\"1\", \"2\"]:\n",
        "    proxy_type = input(\"لطفاً فقط عدد 1 یا 2 را وارد کن: \").strip()\n",
        "\n",
        "print(\"\\nIP:PORT های پروکسی‌ها را وارد کن (با فاصله یا Enter جدا کن):\")\n",
        "proxy_input = input()\n",
        "proxy_list = proxy_input.replace(\",\", \" \").replace(\"\\n\", \" \").split()\n",
        "proxy_list = [p.strip() for p in proxy_list if p.strip()]\n",
        "\n",
        "print(\"\\n📡 شروع تست پروکسی‌ها ...\\n\")\n",
        "\n",
        "for proxy in proxy_list:\n",
        "    ip, returned_ip, ping, status = test_proxy(proxy, proxy_type)\n",
        "    print(f\"{ip:21} | پاسخ: {returned_ip:15} | تأخیر: {ping:8} | {status}\")"
      ],
      "metadata": {
        "colab": {
          "base_uri": "https://localhost:8080/"
        },
        "id": "MN9FTbRSnxFs",
        "outputId": "6b3773cd-628f-4a28-fc69-c87105f4504e"
      },
      "execution_count": null,
      "outputs": [
        {
          "output_type": "stream",
          "name": "stdout",
          "text": [
            "انتخاب نوع پروکسی:\n",
            "1: HTTP/HTTPS\n",
            "2: SOCKS5\n",
            "عدد گزینه را وارد کن (1 یا 2): 1\n",
            "\n",
            "IP:PORT های پروکسی‌ها را وارد کن (با فاصله یا Enter جدا کن):\n",
            "85.133.240.75:8080 78.38.53.36:80 185.88.177.197:80 185.105.102.189:80 94.182.146.250:8080 185.88.177.197:8081 185.105.102.179:80\n",
            "\n",
            "📡 شروع تست پروکسی‌ها ...\n",
            "\n",
            "85.133.240.75:8080    | پاسخ: -               | تأخیر: -        | ❌ خراب\n",
            "78.38.53.36:80        | پاسخ: -               | تأخیر: -        | ❌ خراب\n",
            "185.88.177.197:80     | پاسخ: -               | تأخیر: -        | ❌ خراب\n",
            "185.105.102.189:80    | پاسخ: -               | تأخیر: -        | ❌ خراب\n",
            "94.182.146.250:8080   | پاسخ: -               | تأخیر: -        | ❌ خراب\n",
            "185.88.177.197:8081   | پاسخ: -               | تأخیر: -        | ❌ خراب\n",
            "185.105.102.179:80    | پاسخ: -               | تأخیر: -        | ❌ خراب\n"
          ]
        }
      ]
    }
  ]
}