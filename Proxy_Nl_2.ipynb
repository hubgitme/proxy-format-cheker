{
  "nbformat": 4,
  "nbformat_minor": 0,
  "metadata": {
    "colab": {
      "provenance": [],
      "authorship_tag": "ABX9TyMPySXlSEt/j6rF8cXZp1gL",
      "include_colab_link": true
    },
    "kernelspec": {
      "name": "python3",
      "display_name": "Python 3"
    },
    "language_info": {
      "name": "python"
    }
  },
  "cells": [
    {
      "cell_type": "markdown",
      "metadata": {
        "id": "view-in-github",
        "colab_type": "text"
      },
      "source": [
        "<a href=\"https://colab.research.google.com/github/hubgitme/proxy-format-cheker/blob/main/Proxy_Nl_2.ipynb\" target=\"_parent\"><img src=\"https://colab.research.google.com/assets/colab-badge.svg\" alt=\"Open In Colab\"/></a>"
      ]
    },
    {
      "cell_type": "code",
      "execution_count": 2,
      "metadata": {
        "colab": {
          "base_uri": "https://localhost:8080/"
        },
        "id": "H29BflU2zLe9",
        "outputId": "103a68ef-9b3a-48e0-aa0e-ab9f0985a194"
      },
      "outputs": [
        {
          "output_type": "stream",
          "name": "stdout",
          "text": [
            "تعداد پروکسی‌های ه(ند گرفته شده: 2\n",
            "✅ پروکسی‌های سالم:\n",
            "92.67.186.210:80\n"
          ]
        }
      ],
      "source": [
        "\n",
        "import requests\n",
        "\n",
        "def get_proxies_from_proxyscrape():\n",
        "    url = \"https://api.proxyscrape.com/v2/?request=getproxies&protocol=http&timeout=10000&country=NL&ssl=all&anonymity=all\"\n",
        "    try:\n",
        "        response = requests.get(url, timeout=10)\n",
        "        proxies = response.text.strip().split('\\n')\n",
        "        proxies = [p.strip() for p in proxies if p.strip()]\n",
        "        return proxies\n",
        "    except Exception as e:\n",
        "        print(f\"خطا در دریافت پروکسی: {e}\")\n",
        "        return []\n",
        "\n",
        "def test_proxy_http(proxy):\n",
        "    proxies = {\n",
        "        \"http\": f\"http://{proxy}\",\n",
        "        \"https\": f\"http://{proxy}\",\n",
        "    }\n",
        "    try:\n",
        "        r = requests.get(\"http://httpbin.org/ip\", proxies=proxies, timeout=5)\n",
        "        if r.status_code == 200:\n",
        "            return True\n",
        "    except:\n",
        "        return False\n",
        "\n",
        "proxies = get_proxies_from_proxyscrape()\n",
        "print(f\"تعداد پروکسی‌های ه(ند گرفته شده: {len(proxies)}\")\n",
        "\n",
        "print(\"✅ پروکسی‌های سالم:\")\n",
        "for proxy in proxies:\n",
        "    if test_proxy_http(proxy):\n",
        "        print(proxy)"
      ]
    }
  ]
}