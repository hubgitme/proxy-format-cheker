{
  "nbformat": 4,
  "nbformat_minor": 0,
  "metadata": {
    "colab": {
      "provenance": [],
      "authorship_tag": "ABX9TyNc/JS6e6XjpYDKQDT7O7vL",
      "include_colab_link": true
    },
    "kernelspec": {
      "name": "python3",
      "display_name": "Python 3"
    },
    "language_info": {
      "name": "python"
    }
  },
  "cells": [
    {
      "cell_type": "markdown",
      "metadata": {
        "id": "view-in-github",
        "colab_type": "text"
      },
      "source": [
        "<a href=\"https://colab.research.google.com/github/hubgitme/proxy-format-cheker/blob/main/Proxy_De_Nl.ipynb\" target=\"_parent\"><img src=\"https://colab.research.google.com/assets/colab-badge.svg\" alt=\"Open In Colab\"/></a>"
      ]
    },
    {
      "cell_type": "code",
      "source": [
        "\n",
        "import requests\n",
        "import time\n",
        "import csv\n",
        "from urllib.request import ProxyHandler, build_opener, install_opener, urlopen\n",
        "\n",
        "def test_proxy(proxy, proxy_type='http', test_url='http://www.google.com', timeout=5):\n",
        "    proxy_support = ProxyHandler({proxy_type: proxy})\n",
        "    opener = build_opener(proxy_support)\n",
        "    install_opener(opener)\n",
        "    start = time.time()\n",
        "    try:\n",
        "        response = urlopen(test_url, timeout=timeout)\n",
        "        if response.status == 200:\n",
        "            elapsed = int((time.time() - start)*1000)  # ms\n",
        "            return True, elapsed\n",
        "    except:\n",
        "        pass\n",
        "    return False, None\n",
        "\n",
        "def fetch_proxies(country='DE', proxy_type='http'):\n",
        "    url_map = {\n",
        "        'http': f'https://api.proxyscrape.com/?request=getproxies&proxytype=http&timeout=5000&country={country}&simplified=true',\n",
        "        'socks4': f'https://api.proxyscrape.com/?request=getproxies&proxytype=socks4&timeout=5000&country={country}&simplified=true',\n",
        "        'socks5': f'https://api.proxyscrape.com/?request=getproxies&proxytype=socks5&timeout=5000&country={country}&simplified=true',\n",
        "    }\n",
        "    url = url_map.get(proxy_type)\n",
        "    if not url:\n",
        "        return []\n",
        "    r = requests.get(url)\n",
        "    if r.status_code == 200:\n",
        "        proxies = r.text.strip().split('\\n')\n",
        "        return [p.strip() for p in proxies if p.strip()]\n",
        "    return []\n",
        "\n",
        "def main():\n",
        "    country_codes = ['DE', 'NL']  # آلمان و هلند\n",
        "    proxy_types = ['http', 'socks4', 'socks5']\n",
        "\n",
        "    results = []\n",
        "\n",
        "    for country in country_codes:\n",
        "        print(f\"دریافت پروکسی‌های {country} ...\")\n",
        "        for pt in proxy_types:\n",
        "            proxies = fetch_proxies(country=country, proxy_type=pt)\n",
        "            print(f\"تعداد پروکسی‌های {pt.upper()} یافت شده: {len(proxies)}\")\n",
        "            for proxy in proxies:\n",
        "                is_ok, ping = test_proxy(proxy_type=pt, proxy=f\"{pt}://{proxy}\")\n",
        "                if is_ok:\n",
        "                    print(f\"{pt.upper()}  {proxy}  {ping} ms\")\n",
        "                    results.append((pt.upper(), proxy, ping))\n",
        "\n",
        "    # ذخیره فقط پروکسی‌های سالم در فایل CSV و TXT\n",
        "    with open(\"working_proxies.csv\", \"w\", newline='', encoding=\"utf-8\") as fcsv, \\\n",
        "         open(\"working_proxies.txt\", \"w\", encoding=\"utf-8\") as ftxt:\n",
        "        writer = csv.writer(fcsv)\n",
        "        writer.writerow([\"Proxy Type\", \"Proxy\", \"Ping (ms)\"])\n",
        "        for pt, proxy, ping in results:\n",
        "            writer.writerow([pt, proxy, ping])\n",
        "            ftxt.write(f\"{pt} {proxy} {ping} ms\\n\")\n",
        "\n",
        "    print(\"\\n📁 فایل‌ها ساخته شدند: working_proxies.csv و working_proxies.txt\")\n",
        "\n",
        "if __name__ == \"__main__\":\n",
        "    main()"
      ],
      "metadata": {
        "colab": {
          "base_uri": "https://localhost:8080/"
        },
        "id": "j57zBSVvgRiT",
        "outputId": "e12e2ad4-b2c2-441d-f8b9-7c9baf67e440"
      },
      "execution_count": 11,
      "outputs": [
        {
          "output_type": "stream",
          "name": "stdout",
          "text": [
            "دریافت پروکسی‌های DE ...\n",
            "تعداد پروکسی‌های HTTP یافت شده: 179\n",
            "HTTP  144.76.159.121:8082  367 ms\n",
            "HTTP  78.47.127.91:80  3441 ms\n",
            "تعداد پروکسی‌های SOCKS4 یافت شده: 7\n",
            "SOCKS4  138.201.21.228:53693  51 ms\n",
            "SOCKS4  138.201.21.233:44327  39 ms\n",
            "SOCKS4  173.212.237.43:17437  42 ms\n",
            "SOCKS4  173.212.237.43:63817  39 ms\n",
            "SOCKS4  49.13.165.213:60326  43 ms\n",
            "SOCKS4  82.206.121.97:1080  43 ms\n",
            "SOCKS4  89.163.146.136:21960  44 ms\n",
            "تعداد پروکسی‌های SOCKS5 یافت شده: 0\n",
            "دریافت پروکسی‌های NL ...\n",
            "تعداد پروکسی‌های HTTP یافت شده: 1\n",
            "HTTP  92.67.186.210:80  368 ms\n",
            "تعداد پروکسی‌های SOCKS4 یافت شده: 3\n",
            "SOCKS4  109.236.85.78:12644  38 ms\n",
            "SOCKS4  89.39.105.228:11423  41 ms\n",
            "SOCKS4  93.190.143.139:11110  40 ms\n",
            "تعداد پروکسی‌های SOCKS5 یافت شده: 0\n",
            "\n",
            "📁 فایل‌ها ساخته شدند: working_proxies.csv و working_proxies.txt\n"
          ]
        }
      ]
    }
  ]
}