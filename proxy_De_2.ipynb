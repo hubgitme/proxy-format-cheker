{
  "nbformat": 4,
  "nbformat_minor": 0,
  "metadata": {
    "colab": {
      "provenance": [],
      "authorship_tag": "ABX9TyNrDM1jYXD7q0Dgp01XYOsX",
      "include_colab_link": true
    },
    "kernelspec": {
      "name": "python3",
      "display_name": "Python 3"
    },
    "language_info": {
      "name": "python"
    }
  },
  "cells": [
    {
      "cell_type": "markdown",
      "metadata": {
        "id": "view-in-github",
        "colab_type": "text"
      },
      "source": [
        "<a href=\"https://colab.research.google.com/github/hubgitme/proxy-format-cheker/blob/main/proxy_De_2.ipynb\" target=\"_parent\"><img src=\"https://colab.research.google.com/assets/colab-badge.svg\" alt=\"Open In Colab\"/></a>"
      ]
    },
    {
      "cell_type": "code",
      "source": [
        "\n",
        "import requests\n",
        "\n",
        "def get_proxies_from_proxyscrape():\n",
        "    url = \"https://api.proxyscrape.com/v2/?request=getproxies&protocol=http&timeout=10000&country=DE&ssl=all&anonymity=all\"\n",
        "    try:\n",
        "        response = requests.get(url, timeout=10)\n",
        "        proxies = response.text.strip().split('\\n')\n",
        "        proxies = [p.strip() for p in proxies if p.strip()]\n",
        "        return proxies\n",
        "    except Exception as e:\n",
        "        print(f\"خطا در دریافت پروکسی: {e}\")\n",
        "        return []\n",
        "\n",
        "def test_proxy_http(proxy):\n",
        "    proxies = {\n",
        "        \"http\": f\"http://{proxy}\",\n",
        "        \"https\": f\"http://{proxy}\",\n",
        "    }\n",
        "    try:\n",
        "        r = requests.get(\"http://httpbin.org/ip\", proxies=proxies, timeout=5)\n",
        "        if r.status_code == 200:\n",
        "            return True\n",
        "    except:\n",
        "        return False\n",
        "\n",
        "proxies = get_proxies_from_proxyscrape()\n",
        "print(f\"تعداد پروکسی‌های آلمان گرفته شده: {len(proxies)}\")\n",
        "\n",
        "print(\"✅ پروکسی‌های سالم:\")\n",
        "for proxy in proxies:\n",
        "    if test_proxy_http(proxy):\n",
        "        print(proxy)"
      ],
      "metadata": {
        "colab": {
          "base_uri": "https://localhost:8080/"
        },
        "id": "ur_Cu3YSlxLw",
        "outputId": "6420c20a-0866-47ae-f3c1-7916cbaf9463"
      },
      "execution_count": 16,
      "outputs": [
        {
          "output_type": "stream",
          "name": "stdout",
          "text": [
            "تعداد پروکسی‌های آلمان گرفته شده: 179\n",
            "✅ پروکسی‌های سالم:\n",
            "144.76.159.121:8082\n",
            "78.47.127.91:80\n",
            "37.120.162.180:36829\n",
            "144.76.159.121:8084\n"
          ]
        }
      ]
    }
  ]
}